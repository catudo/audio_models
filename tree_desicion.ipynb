{
 "cells": [
  {
   "cell_type": "code",
   "execution_count": 1,
   "id": "4d0edabd-1508-40e9-b17e-c0413662b13d",
   "metadata": {},
   "outputs": [],
   "source": [
    "import os\n",
    "import pandas as pd\n",
    "from sklearn.tree import DecisionTreeClassifier\n",
    "from sklearn.tree import DecisionTreeClassifier,plot_tree\n",
    "from sklearn.model_selection import train_test_split\n",
    "from sklearn.metrics import accuracy_score\n",
    "from sklearn.tree import export_graphviz\n",
    "import librosa\n",
    "import numpy as np\n",
    "import matplotlib.pyplot as plt\n",
    "from joblib import dump\n",
    "from joblib import load"
   ]
  },
  {
   "cell_type": "code",
   "execution_count": 2,
   "id": "d4ada1a3-2ca1-4d36-bb05-f65e92abcdc6",
   "metadata": {},
   "outputs": [],
   "source": [
    "def extract_features(audio_file, max_frames=1000):\n",
    "    try:\n",
    "        \n",
    "        y, sr = librosa.load(audio_file, sr=None)\n",
    "        mfcc = librosa.feature.mfcc(y=y, sr=sr)\n",
    "        \n",
    "        if mfcc.shape[1] < max_frames:\n",
    "            mfcc = np.pad(mfcc, ((0, 0), (0, max_frames - mfcc.shape[1])), mode='constant')\n",
    "        else:\n",
    "            mfcc = mfcc[:, :max_frames]\n",
    "        return mfcc\n",
    "    except Exception as e:\n",
    "        print(f\"Error processing {audio_file}: {e}\")\n",
    "        return None"
   ]
  },
  {
   "cell_type": "code",
   "execution_count": 3,
   "id": "729e9890-0c8c-49f4-91f0-7c94f082699f",
   "metadata": {},
   "outputs": [],
   "source": [
    "def load_mapping_from_excel(excel_file):\n",
    "    df = pd.read_excel(excel_file)\n",
    "    return df"
   ]
  },
  {
   "cell_type": "code",
   "execution_count": 4,
   "id": "01ba57fa-7ef6-4d61-bb44-ba93637ffcf4",
   "metadata": {},
   "outputs": [],
   "source": [
    "def train_decision_tree(features, labels):\n",
    "    X_train, X_test, y_train, y_test = train_test_split(features, labels, test_size=0.2, random_state=100)\n",
    "    clf = DecisionTreeClassifier(max_depth=80,criterion= 'log_loss',splitter='random')\n",
    "    clf.fit(X_train, y_train)\n",
    "\n",
    "    return clf, X_test, y_test\n"
   ]
  },
  {
   "cell_type": "code",
   "execution_count": 5,
   "id": "1d033710-27a9-4515-bbf0-b4aba40b91e3",
   "metadata": {},
   "outputs": [],
   "source": [
    "audio_folder = \"./operations\"\n",
    "audio_files = os.listdir(audio_folder)\n",
    "audio_features = [extract_features(os.path.join(audio_folder, file)) for file in audio_files]\n",
    "\n"
   ]
  },
  {
   "cell_type": "code",
   "execution_count": 6,
   "id": "c6526a2f-2045-4916-a01e-7c4aa2af0d61",
   "metadata": {},
   "outputs": [],
   "source": [
    "excel_file = \"operation_dataset.xlsx\"\n",
    "mapping_df = load_mapping_from_excel(excel_file)\n",
    "max_frames = 1000  \n",
    "features = [extract_features(\"./operaciones/\"+audio_file, max_frames) for audio_file in audio_files]\n",
    "labels = mapping_df[\"result\"]"
   ]
  },
  {
   "cell_type": "code",
   "execution_count": 7,
   "id": "d8e062ba-d894-4aa7-acab-db10a9aa6a54",
   "metadata": {},
   "outputs": [],
   "source": [
    "features_flat = [features.flatten() for features in audio_features]\n",
    "model, X_test, y_test = train_decision_tree(features_flat, labels)\n"
   ]
  },
  {
   "cell_type": "code",
   "execution_count": 8,
   "id": "67608998-6368-4d5a-a142-d81ebf5900c1",
   "metadata": {},
   "outputs": [
    {
     "name": "stdout",
     "output_type": "stream",
     "text": [
      "Training Accuracy: 1.0\n",
      "Test Accuracy: 1.0\n"
     ]
    }
   ],
   "source": [
    "y_pred_train = model.predict(features_flat)  # Predictions on the training set\n",
    "accuracy_train = accuracy_score(labels, y_pred_train)\n",
    "\n",
    "# Predictions on the test set\n",
    "y_pred_test = model.predict(X_test)\n",
    "accuracy_test = accuracy_score(y_test, y_pred_test)\n",
    "\n",
    "print(\"Training Accuracy:\", accuracy_train)\n",
    "print(\"Test Accuracy:\", accuracy_test)"
   ]
  },
  {
   "cell_type": "code",
   "execution_count": 9,
   "id": "e7aafec1-f510-4844-bab0-547c11aa7251",
   "metadata": {},
   "outputs": [
    {
     "name": "stdout",
     "output_type": "stream",
     "text": [
      "The model does not seem to be overfitting.\n"
     ]
    }
   ],
   "source": [
    "if accuracy_train > accuracy_test:\n",
    "    print(\"The model may be overfitting.\")\n",
    "else:\n",
    "    print(\"The model does not seem to be overfitting.\")\n",
    "    "
   ]
  },
  {
   "cell_type": "code",
   "execution_count": 10,
   "id": "5200aa2d-6203-4474-aa63-9ebdaf6273ca",
   "metadata": {},
   "outputs": [
    {
     "name": "stdout",
     "output_type": "stream",
     "text": [
      "Model saved successfully to decision_tree_model.joblib\n"
     ]
    }
   ],
   "source": [
    "model_file = \"decision_tree_model.joblib\"\n",
    "dump(model, model_file)\n",
    "\n",
    "print(\"Model saved successfully to\", model_file)"
   ]
  },
  {
   "cell_type": "code",
   "execution_count": 11,
   "id": "649e6ded-a2cf-4266-a0b7-76e238307819",
   "metadata": {},
   "outputs": [],
   "source": [
    "loaded_model = load(\"decision_tree_model.joblib\")"
   ]
  },
  {
   "cell_type": "code",
   "execution_count": 12,
   "id": "a0678b71-641e-49e5-aeae-091f4ef07f94",
   "metadata": {},
   "outputs": [
    {
     "data": {
      "text/plain": [
       "array([20])"
      ]
     },
     "execution_count": 12,
     "metadata": {},
     "output_type": "execute_result"
    }
   ],
   "source": [
    "audio_file_test =  [\"./operaciones/2x9.wav\"]\n",
    "feature_test = [extract_features(audio_file, max_frames) for audio_file in audio_file_test]\n",
    "features_flat_test = [features.flatten() for features in feature_test]\n",
    "loaded_model.predict(features_flat_test)"
   ]
  },
  {
   "cell_type": "code",
   "execution_count": null,
   "id": "8f326cd4-1e21-468c-9d5d-de6575066635",
   "metadata": {},
   "outputs": [],
   "source": []
  }
 ],
 "metadata": {
  "kernelspec": {
   "display_name": "Python 3 (ipykernel)",
   "language": "python",
   "name": "python3"
  },
  "language_info": {
   "codemirror_mode": {
    "name": "ipython",
    "version": 3
   },
   "file_extension": ".py",
   "mimetype": "text/x-python",
   "name": "python",
   "nbconvert_exporter": "python",
   "pygments_lexer": "ipython3",
   "version": "3.11.7"
  }
 },
 "nbformat": 4,
 "nbformat_minor": 5
}

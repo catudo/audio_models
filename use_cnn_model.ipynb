{
 "cells": [
  {
   "cell_type": "code",
   "execution_count": 1,
   "id": "4d0edabd-1508-40e9-b17e-c0413662b13d",
   "metadata": {},
   "outputs": [
    {
     "name": "stderr",
     "output_type": "stream",
     "text": [
      "2024-04-04 21:52:00.630803: I tensorflow/core/platform/cpu_feature_guard.cc:210] This TensorFlow binary is optimized to use available CPU instructions in performance-critical operations.\n",
      "To enable the following instructions: AVX2 FMA, in other operations, rebuild TensorFlow with the appropriate compiler flags.\n",
      "2024-04-04 21:52:01.347661: W tensorflow/compiler/tf2tensorrt/utils/py_utils.cc:38] TF-TRT Warning: Could not find TensorRT\n"
     ]
    }
   ],
   "source": [
    "import pandas as pd\n",
    "import numpy as np\n",
    "\n",
    "import librosa\n",
    "from librosa import display\n",
    "import os\n",
    "import tensorflow as tf\n",
    "from tensorflow import keras\n",
    "import warnings\n",
    "warnings.filterwarnings('ignore', category=UserWarning)\n",
    "from sklearn.metrics import precision_score\n"
   ]
  },
  {
   "cell_type": "code",
   "execution_count": 2,
   "id": "4c3ea33e-56ef-4f49-aa24-795401fda9e7",
   "metadata": {},
   "outputs": [],
   "source": [
    "loaded_model = tf.keras.models.load_model('cnn_model.keras')"
   ]
  },
  {
   "cell_type": "code",
   "execution_count": 3,
   "id": "c2633cd7-9ed4-4fbb-afe3-9ed11d751024",
   "metadata": {},
   "outputs": [],
   "source": [
    "file = '2x1.wav'"
   ]
  },
  {
   "cell_type": "code",
   "execution_count": 4,
   "id": "60409896-de38-4999-8e59-e2c4106804c2",
   "metadata": {},
   "outputs": [],
   "source": [
    "feature_list = []\n",
    "audio_path = os.path.join('./operations', file)\n",
    "audio, sr = librosa.load(path=audio_path, sr=None)\n",
    "audio = librosa.effects.time_stretch(y=audio, rate=len(audio)/sr)\n",
    "# Calculate features\n",
    "mels = librosa.feature.melspectrogram(y=audio, sr=sr, n_fft=1048, hop_length=512)\n",
    "mels_db = librosa.power_to_db(S=mels, ref=1.0)\n",
    "feature_list.append(mels_db)\n",
    "\n",
    "\n",
    "# Determine the maximum length of the second dimension among all features\n",
    "max_length = max(feature.shape[1] for feature in feature_list)\n",
    "\n",
    "# Pad or truncate each feature to have the same length as max_length\n",
    "for i, feature in enumerate(feature_list):\n",
    "    pad_width = max_length - feature.shape[1]\n",
    "    # Pad or truncate along the second dimension\n",
    "    if pad_width > 0:\n",
    "        feature_list[i] = np.pad(feature, ((0, 0), (0, pad_width)), mode='constant')\n",
    "    elif pad_width < 0:\n",
    "        feature_list[i] = feature[:, :max_length]\n",
    "\n",
    "# Now, all features have the same shape, so you can reshape them\n",
    "feature_list = [feature.reshape((128, -1, 1)) for feature in feature_list]\n",
    "\n",
    "# Convert feature_list and label_list to NumPy arrays\n",
    "features = np.array(feature_list)"
   ]
  },
  {
   "cell_type": "code",
   "execution_count": 5,
   "id": "82945392-8057-463d-999b-187a678af63d",
   "metadata": {},
   "outputs": [
    {
     "name": "stdout",
     "output_type": "stream",
     "text": [
      "\u001b[1m1/1\u001b[0m \u001b[32m━━━━━━━━━━━━━━━━━━━━\u001b[0m\u001b[37m\u001b[0m \u001b[1m0s\u001b[0m 121ms/step\n"
     ]
    }
   ],
   "source": [
    "y_predict = loaded_model.predict(features)"
   ]
  },
  {
   "cell_type": "code",
   "execution_count": 6,
   "id": "862d4a04-a5e0-4660-a71c-3a0457a01442",
   "metadata": {},
   "outputs": [],
   "source": [
    "original_labels = np.argmax(y_predict, axis=1)"
   ]
  },
  {
   "cell_type": "code",
   "execution_count": 7,
   "id": "4263ffdf-5a06-4ac3-9b9c-b5665d2d2840",
   "metadata": {},
   "outputs": [
    {
     "data": {
      "text/plain": [
       "16"
      ]
     },
     "execution_count": 7,
     "metadata": {},
     "output_type": "execute_result"
    }
   ],
   "source": [
    "original_labels[0]"
   ]
  }
 ],
 "metadata": {
  "kernelspec": {
   "display_name": "Python 3 (ipykernel)",
   "language": "python",
   "name": "python3"
  },
  "language_info": {
   "codemirror_mode": {
    "name": "ipython",
    "version": 3
   },
   "file_extension": ".py",
   "mimetype": "text/x-python",
   "name": "python",
   "nbconvert_exporter": "python",
   "pygments_lexer": "ipython3",
   "version": "3.11.7"
  }
 },
 "nbformat": 4,
 "nbformat_minor": 5
}
